{
 "cells": [
  {
   "cell_type": "markdown",
   "metadata": {},
   "source": [
    "# Project Description"
   ]
  },
  {
   "cell_type": "markdown",
   "metadata": {},
   "source": [
    "#The goal of my project is to help people calculate some statistics about theirselves based on the information they provide. Bascially, I wrote four functions towards different statistics the bot is going to calculate. I also use the main function from our assignment 3 to help me generate the bot."
   ]
  },
  {
   "cell_type": "markdown",
   "metadata": {},
   "source": [
    "## Project Code\n",
    "\n",
    "If it makes sense for your project, you can have code and outputs here in the notebook as well."
   ]
  },
  {
   "cell_type": "code",
   "execution_count": 1,
   "metadata": {},
   "outputs": [
    {
     "name": "stdout",
     "output_type": "stream",
     "text": [
      "INPUT: \thi\n",
      "OUTPUT: Nice to meet you!\n",
      "INPUT: \tI want to start!\n",
      "I will help you calculate some body statistics. But I need more information.\n",
      "\n",
      "Enter your height in meters. 1.65\n",
      "Enter your weight in kilograms. 50\n",
      "\n",
      "Your body BMI is 18.36547291092746. \n",
      "Oh no! You are underweight.\n",
      "\n",
      "\n",
      "Now let's calculate Basal Metabolic Rate(BMR) which is the least amount of energy your body need in a day.\n",
      "Please enter your gender. Type male of female. female\n",
      "Please enter your age: 20\n",
      "You need to injest  1344.98  calories a day to keep your body funtioning.\n",
      "\n",
      "\n",
      "In order to manage you calorie intake, you also have to know your total daily energy expenditure(TDEE).\n",
      "\n",
      "     Frequency Grade Times of exercise\n",
      "0    sedentary     A               0-1\n",
      "1        light     B               1-3\n",
      "2     moderate     C               4-5\n",
      "3       active     D               6-7\n",
      "4  very active     E       more than 7\n",
      "\n",
      "Please enter your activity frequency based on the scale above.\n",
      "Hint: Enter the letter in correspnding 'Grade' column! B\n",
      "Your total daily enery expenditure is about  1849.3475  calories.\n",
      "\n",
      "\n",
      "  choice                            preference\n",
      "0      A  Yes! I would like to reduce bodyfat!\n",
      "1      B           Yes. I want to gain muscle!\n",
      "2      C   No. I wanna keep my current weight.\n",
      "\n",
      "My choice is: A\n",
      "You should eat  1349.3475  to  1649.3475  calories a day.\n",
      "OUTPUT: Thanks!\n",
      "INPUT: \tquit\n",
      "OUTPUT: Bye!\n"
     ]
    }
   ],
   "source": [
    "from functions_final import *"
   ]
  }
 ],
 "metadata": {
  "kernelspec": {
   "display_name": "Python 3",
   "language": "python",
   "name": "python3"
  },
  "language_info": {
   "codemirror_mode": {
    "name": "ipython",
    "version": 3
   },
   "file_extension": ".py",
   "mimetype": "text/x-python",
   "name": "python",
   "nbconvert_exporter": "python",
   "pygments_lexer": "ipython3",
   "version": "3.6.7"
  }
 },
 "nbformat": 4,
 "nbformat_minor": 2
}
